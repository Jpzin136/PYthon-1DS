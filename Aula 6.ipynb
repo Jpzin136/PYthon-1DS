{
 "cells": [
  {
   "cell_type": "markdown",
   "metadata": {},
   "source": [
    "## Aula 06 - Introdução a Tuplas e dicionários"
   ]
  },
  {
   "cell_type": "code",
   "execution_count": 1,
   "metadata": {},
   "outputs": [
    {
     "name": "stdout",
     "output_type": "stream",
     "text": [
      "[2, 5, 9]\n"
     ]
    }
   ],
   "source": [
    "lista = [2,5,9]\n",
    "lista [1]\n",
    "print(lista)"
   ]
  },
  {
   "cell_type": "markdown",
   "metadata": {},
   "source": [
    "## Introdução a Tupla"
   ]
  },
  {
   "cell_type": "code",
   "execution_count": 2,
   "metadata": {},
   "outputs": [
    {
     "data": {
      "text/plain": [
       "8"
      ]
     },
     "execution_count": 2,
     "metadata": {},
     "output_type": "execute_result"
    }
   ],
   "source": [
    "tupla = (6,8,9)\n",
    "tupla [1]\n"
   ]
  },
  {
   "cell_type": "code",
   "execution_count": 4,
   "metadata": {},
   "outputs": [
    {
     "name": "stdout",
     "output_type": "stream",
     "text": [
      "[2, 5, 9, 7, 7]\n"
     ]
    }
   ],
   "source": [
    "lista.append(7)\n",
    "print(lista)"
   ]
  },
  {
   "cell_type": "code",
   "execution_count": 1,
   "metadata": {},
   "outputs": [
    {
     "ename": "NameError",
     "evalue": "name 'tupla' is not defined",
     "output_type": "error",
     "traceback": [
      "\u001b[1;31m---------------------------------------------------------------------------\u001b[0m",
      "\u001b[1;31mNameError\u001b[0m                                 Traceback (most recent call last)",
      "Cell \u001b[1;32mIn[1], line 1\u001b[0m\n\u001b[1;32m----> 1\u001b[0m \u001b[43mtupla\u001b[49m (\u001b[38;5;241m1\u001b[39m,\u001b[38;5;241m5\u001b[39m,\u001b[38;5;241m8\u001b[39m)\n\u001b[0;32m      2\u001b[0m tupla \u001b[38;5;241m=\u001b[39m tupla \u001b[38;5;241m+\u001b[39m \u001b[38;5;241m1\u001b[39m \n\u001b[0;32m      3\u001b[0m \u001b[38;5;28mprint\u001b[39m (tupla)\n",
      "\u001b[1;31mNameError\u001b[0m: name 'tupla' is not defined"
     ]
    }
   ],
   "source": [
    "tupla (1,5,8)\n",
    "tupla = tupla + 1 \n",
    "print (tupla)"
   ]
  },
  {
   "cell_type": "markdown",
   "metadata": {},
   "source": [
    "## Introdução a Dicionários "
   ]
  },
  {
   "cell_type": "code",
   "execution_count": 12,
   "metadata": {},
   "outputs": [],
   "source": [
    "dicionário = {\n",
    "    'curso' : 'Desenvolvimento de sistemas',\n",
    "    'ano': 2024,\n",
    "    \"modulo\" : 'Tecnicas de Programação e algoritimo',\n",
    "    'Professor' : 'Gustavo'\n",
    "}"
   ]
  },
  {
   "cell_type": "code",
   "execution_count": 13,
   "metadata": {},
   "outputs": [
    {
     "name": "stdout",
     "output_type": "stream",
     "text": [
      "Desenvolvimento de sistemas\n",
      "2024\n",
      "Tecnicas de Programação e algoritimo\n",
      "Gustavo\n"
     ]
    }
   ],
   "source": [
    "print (dicionário[\"curso\"])\n",
    "print (dicionário[\"ano\"])\n",
    "print (dicionário[\"modulo\"])\n",
    "print (dicionário[\"Professor\"])"
   ]
  },
  {
   "cell_type": "code",
   "execution_count": 16,
   "metadata": {},
   "outputs": [
    {
     "name": "stdout",
     "output_type": "stream",
     "text": [
      "9.5\n"
     ]
    }
   ],
   "source": [
    "dicionário[\"nota\"] = 9.5\n",
    "print(dicionário[\"nota\"])"
   ]
  },
  {
   "cell_type": "code",
   "execution_count": 14,
   "metadata": {},
   "outputs": [
    {
     "name": "stdout",
     "output_type": "stream",
     "text": [
      "curso\n",
      "ano\n",
      "modulo\n",
      "Professor\n"
     ]
    }
   ],
   "source": [
    "for x in dicionário:\n",
    "    print(x)"
   ]
  },
  {
   "cell_type": "markdown",
   "metadata": {},
   "source": [
    "## Exercício 1 "
   ]
  },
  {
   "cell_type": "markdown",
   "metadata": {},
   "source": [
    "> Criar 3 dicionarios: Matricula, aluno e discplina. A matricula terá código da matricula, data_inscrição e curso;\n",
    "> Aluno terá registro e nome. A discplina terá regisro, nome e professor;\n",
    "> Ao final adicione os três dicionarios em uma tupla chamada 'Escola'. "
   ]
  },
  {
   "cell_type": "code",
   "execution_count": 19,
   "metadata": {},
   "outputs": [
    {
     "name": "stdout",
     "output_type": "stream",
     "text": [
      "({'codigo': '1918', 'data': '05/8', 'curso': 'DS'}, {'registro': '240082', 'nome': 'João Paulo'}, {'registro': '7677', 'nome': 'João Paulo', 'professor': 'Gustavo'})\n"
     ]
    }
   ],
   "source": [
    "matriculas = {\n",
    "    \"codigo\":\"1918\",\n",
    "    \"data\":\"05/8\",\n",
    "    \"curso\":\"DS\"\n",
    "}\n",
    "aluno = {\n",
    "    \"registro\":\"240082\",\n",
    "    \"nome\":\"João Paulo\"\n",
    "}\n",
    "\n",
    "diciplina = {\n",
    "  \"registro\":\"7677\",\n",
    "  \"nome\":\"João Paulo\",\n",
    "  \"professor\":\"Gustavo\"\n",
    "}\n",
    "\n",
    "escola = (matriculas,aluno,diciplina)\n",
    "print(escola)"
   ]
  }
 ],
 "metadata": {
  "kernelspec": {
   "display_name": "Python 3",
   "language": "python",
   "name": "python3"
  },
  "language_info": {
   "codemirror_mode": {
    "name": "ipython",
    "version": 3
   },
   "file_extension": ".py",
   "mimetype": "text/x-python",
   "name": "python",
   "nbconvert_exporter": "python",
   "pygments_lexer": "ipython3",
   "version": "3.12.2"
  }
 },
 "nbformat": 4,
 "nbformat_minor": 2
}
